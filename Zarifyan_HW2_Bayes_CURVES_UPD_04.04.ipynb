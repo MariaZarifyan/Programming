{
 "cells": [
  {
   "cell_type": "markdown",
   "metadata": {},
   "source": [
    "# Я добавила learning curve и ROC Сurve и дополнила код комментариями "
   ]
  },
  {
   "cell_type": "code",
   "execution_count": 99,
   "metadata": {
    "collapsed": false,
    "scrolled": true
   },
   "outputs": [
    {
     "name": "stderr",
     "output_type": "stream",
     "text": [
      "C:\\Anaconda3\\lib\\site-packages\\sklearn\\learning_curve.py:23: DeprecationWarning: This module was deprecated in version 0.18 in favor of the model_selection module into which all the functions are moved. This module will be removed in 0.20\n",
      "  DeprecationWarning)\n"
     ]
    },
    {
     "data": {
      "text/html": [
       "<div>\n",
       "<table border=\"1\" class=\"dataframe\">\n",
       "  <thead>\n",
       "    <tr style=\"text-align: right;\">\n",
       "      <th></th>\n",
       "      <th>label</th>\n",
       "      <th>message</th>\n",
       "    </tr>\n",
       "  </thead>\n",
       "  <tbody>\n",
       "    <tr>\n",
       "      <th>0</th>\n",
       "      <td>ham</td>\n",
       "      <td>Go until jurong point, crazy.. Available only ...</td>\n",
       "    </tr>\n",
       "    <tr>\n",
       "      <th>1</th>\n",
       "      <td>ham</td>\n",
       "      <td>Ok lar... Joking wif u oni...</td>\n",
       "    </tr>\n",
       "    <tr>\n",
       "      <th>2</th>\n",
       "      <td>spam</td>\n",
       "      <td>Free entry in 2 a wkly comp to win FA Cup fina...</td>\n",
       "    </tr>\n",
       "    <tr>\n",
       "      <th>3</th>\n",
       "      <td>ham</td>\n",
       "      <td>U dun say so early hor... U c already then say...</td>\n",
       "    </tr>\n",
       "    <tr>\n",
       "      <th>4</th>\n",
       "      <td>ham</td>\n",
       "      <td>Nah I don't think he goes to usf, he lives aro...</td>\n",
       "    </tr>\n",
       "  </tbody>\n",
       "</table>\n",
       "</div>"
      ],
      "text/plain": [
       "  label                                            message\n",
       "0   ham  Go until jurong point, crazy.. Available only ...\n",
       "1   ham                      Ok lar... Joking wif u oni...\n",
       "2  spam  Free entry in 2 a wkly comp to win FA Cup fina...\n",
       "3   ham  U dun say so early hor... U c already then say...\n",
       "4   ham  Nah I don't think he goes to usf, he lives aro..."
      ]
     },
     "execution_count": 99,
     "metadata": {},
     "output_type": "execute_result"
    }
   ],
   "source": [
    "# -*- coding: utf-8 -*-\n",
    "import re \n",
    "import pandas \n",
    "import numpy as np\n",
    "import matplotlib.pyplot as plt\n",
    "from nltk import word_tokenize\n",
    "from nltk.corpus import stopwords\n",
    "from nltk.tokenize import wordpunct_tokenize\n",
    "#from nltk.stem import * \n",
    "from nltk.stem.snowball import SnowballStemmer \n",
    "from nltk.stem import WordNetLemmatizer\n",
    "from sklearn.feature_extraction.text import CountVectorizer, TfidfTransformer\n",
    "from sklearn.naive_bayes import MultinomialNB\n",
    "from sklearn.metrics import classification_report, f1_score, accuracy_score, confusion_matrix\n",
    "from sklearn.dummy import DummyClassifier\n",
    "from sklearn.feature_extraction.text import TfidfVectorizer\n",
    "from sklearn.learning_curve import learning_curve \n",
    "from sklearn.ensemble import RandomForestClassifier\n",
    "from sklearn.tree import DecisionTreeClassifier\n",
    "from sklearn.datasets import load_digits\n",
    "from sklearn.model_selection import ShuffleSplit\n",
    "sns.set(style=\"whitegrid\", color_codes=True)\n",
    "np.random.seed(sum(map(ord, \"categorical\")))\n",
    "\n",
    "f = pd.read_csv('D:/HSE_2016-2017/progamming/HW_Bayes/SMSSpamCollection', sep='\\t',\n",
    "                           names=[\"label\", \"message\"])\n",
    "f.head()"
   ]
  },
  {
   "cell_type": "code",
   "execution_count": 15,
   "metadata": {
    "collapsed": false
   },
   "outputs": [
    {
     "name": "stdout",
     "output_type": "stream",
     "text": [
      "ham:  4825 spam:  747\n"
     ]
    }
   ],
   "source": [
    "'''Посчитаем соотношение спама к нормальным сообщениям:'''\n",
    "ham = 0\n",
    "spam = 0\n",
    "ham_arr = []\n",
    "spam_arr = []\n",
    "for line in f['label']:\n",
    "    if \"ham\" in line:\n",
    "        ham += 1\n",
    "    if 'spam' in line:\n",
    "        spam += 1\n",
    "print('ham: ', ham, 'spam: ', spam)"
   ]
  },
  {
   "cell_type": "markdown",
   "metadata": {},
   "source": [
    "Как мы видим, выборка не сбалансирована. Спама почти в 7 раз меньше."
   ]
  },
  {
   "cell_type": "code",
   "execution_count": 97,
   "metadata": {
    "collapsed": false
   },
   "outputs": [
    {
     "name": "stdout",
     "output_type": "stream",
     "text": [
      "             precision    recall  f1-score   support\n",
      "\n",
      "        ham       1.00      0.97      0.98      4405\n",
      "       spam       0.71      0.94      0.81       374\n",
      "\n",
      "avg / total       0.97      0.96      0.97      4779\n",
      "\n",
      "[[4258  147]\n",
      " [  21  353]]\n"
     ]
    }
   ],
   "source": [
    "from nltk import word_tokenize\n",
    "import re \n",
    "import itertools\n",
    "from nltk.corpus import stopwords\n",
    "from nltk.tokenize import wordpunct_tokenize\n",
    "from sklearn.naive_bayes import MultinomialNB\n",
    "from sklearn.metrics import classification_report, f1_score, accuracy_score, confusion_matrix\n",
    "from nltk.stem.snowball import SnowballStemmer \n",
    "from nltk.stem import WordNetLemmatizer\n",
    "\n",
    "tokens = [word_tokenize(i) for i in f]\n",
    "'''Токенизация с удалением знаков препинания:'''\n",
    "def tokenize(text):\n",
    "    text = text.lower()\n",
    "    text = re.sub(\"[,;':.?!]\", '', text)\n",
    "    return word_tokenize(text)  \n",
    "\n",
    "'''Знаки препинания считаются токенами:'''\n",
    "def p_tokenize(text):\n",
    "    text = text.lower()\n",
    "    return wordpunct_tokenize(text) \n",
    "\n",
    "'''Стемминг. Используем SnowballStemmer '''\n",
    "def ball_stemming(text):\n",
    "    stemmer = SnowballStemmer(\"english\") \n",
    "    tokens = word_tokenize(text)\n",
    "    stemmas = [stemmer.stem(token) for token in tokens]\n",
    "    return stemmas \n",
    "\n",
    "'''Лемматизация. Используем WordNetLemmatizer'''\n",
    "def lemming(text):\n",
    "    lemmatizer = WordNetLemmatizer()\n",
    "    tokens = word_tokenize(text)\n",
    "    lemmas = [lemmatizer.lemmatize(token) for token in tokens]\n",
    "    return lemmas\n",
    "\n",
    "'''Очистка от стоп-слов'''\n",
    "def stop_words(text):\n",
    "    stopWords = set(stopwords.words('english'))\n",
    "    tokens = word_tokenize(text)\n",
    "    filtered = [w for w in tokens if not w in stopWords] \n",
    "    return filtered \n",
    "spam_arr = f[f['label']=='spam']\n",
    "#print([spam_arr])\n",
    "ham_arr = f[f['label']=='ham']\n",
    "\n",
    "\n",
    "'''Нормализуем выборку. Сделаем соотношение спама к не-спаму примерно 8:9.''' \n",
    "''' Всего 747 сообщений спама. Возьмем 373  - примерно половину из них.'''\n",
    "train = pd.concat([spam_arr[:373], ham_arr[:420]], ignore_index = True)\n",
    "test = pd.concat([spam_arr[373:], ham_arr[420:]], ignore_index = True)\n",
    "\n",
    "msg_train = list(train['message'])\n",
    "label_train = np.array(train['label'])\n",
    "msg_test = list(test['message'])\n",
    "label_test = np.array(test['label'])\n",
    "#print(train.groupby('label').describe())\n",
    "from sklearn.feature_extraction.text import CountVectorizer, TfidfTransformer\n",
    "\n",
    "'''Создаем матрицу терм-документ,  в параметр analyzer по очереди подставляем все наши функции и смотрим что получается:'''\n",
    "bow = CountVectorizer(analyzer=tokenize)    \n",
    "bow.fit_transform(msg_train)\n",
    "bowed_train = bow.transform(msg_train)\n",
    "bowed_test = bow.transform(msg_test)\n",
    "\n",
    "naive_model = MultinomialNB()\n",
    "naive_model.fit(bowed_train, label_train)\n",
    "pred = naive_model.predict(bowed_test)\n",
    "print(classification_report(label_test, pred))\n",
    "print(confusion_matrix(label_test, pred))"
   ]
  },
  {
   "cell_type": "raw",
   "metadata": {},
   "source": [
    "Результат довольно высокий."
   ]
  },
  {
   "cell_type": "code",
   "execution_count": 31,
   "metadata": {
    "collapsed": false
   },
   "outputs": [
    {
     "name": "stdout",
     "output_type": "stream",
     "text": [
      "             precision    recall  f1-score   support\n",
      "\n",
      "        ham       1.00      0.97      0.99      4405\n",
      "       spam       0.76      0.95      0.85       374\n",
      "\n",
      "avg / total       0.98      0.97      0.97      4779\n",
      "\n",
      "[[4293  112]\n",
      " [  17  357]]\n"
     ]
    }
   ],
   "source": [
    "'''Токенизируем, учитывая знаки препинания '''\n",
    "bow_p = CountVectorizer(analyzer=p_tokenize)   \n",
    " \n",
    "bow_p.fit_transform(msg_train)\n",
    "bowed_train = bow_p.transform(msg_train)\n",
    "bowed_test = bow_p.transform(msg_test)\n",
    "\n",
    "naive_model_p = MultinomialNB()\n",
    "naive_model_p.fit(bowed_train, label_train)\n",
    "pred = naive_model_p.predict(bowed_test)\n",
    "print(classification_report(label_test, pred))\n",
    "print(confusion_matrix(label_test, pred))"
   ]
  },
  {
   "cell_type": "markdown",
   "metadata": {},
   "source": [
    "Учитывая знаки препинания, классифицирует чуть точнее. "
   ]
  },
  {
   "cell_type": "code",
   "execution_count": 35,
   "metadata": {
    "collapsed": false
   },
   "outputs": [
    {
     "name": "stdout",
     "output_type": "stream",
     "text": [
      "             precision    recall  f1-score   support\n",
      "\n",
      "        ham       1.00      0.97      0.98      4405\n",
      "       spam       0.73      0.94      0.82       374\n",
      "\n",
      "avg / total       0.97      0.97      0.97      4779\n",
      "\n",
      "[[4276  129]\n",
      " [  21  353]]\n"
     ]
    }
   ],
   "source": [
    "from nltk.stem.snowball import SnowballStemmer \n",
    "'''Стемминг (SnowBallStemmer)'''\n",
    "bow_s = CountVectorizer(analyzer=ball_stemming)    \n",
    "bow_s.fit_transform(msg_train)\n",
    "bowed_train = bow_s.transform(msg_train)\n",
    "bowed_test = bow_s.transform(msg_test)\n",
    "\n",
    "naive_model_s = MultinomialNB()\n",
    "naive_model_s.fit(bowed_train, label_train)\n",
    "pred = naive_model_s.predict(bowed_test)\n",
    "print(classification_report(label_test, pred))\n",
    "print(confusion_matrix(label_test, pred))"
   ]
  },
  {
   "cell_type": "markdown",
   "metadata": {},
   "source": [
    "Стемминг работает хуже  - если при токенизации с учётом знаков препинания 112 сообщений ham уходило в спам, то сейчас их уже 129. И если тогда 17 спамовых сообщений распознавались, как ham, то сейчас их уже 21."
   ]
  },
  {
   "cell_type": "code",
   "execution_count": 36,
   "metadata": {
    "collapsed": false
   },
   "outputs": [
    {
     "name": "stdout",
     "output_type": "stream",
     "text": [
      "             precision    recall  f1-score   support\n",
      "\n",
      "        ham       1.00      0.96      0.98      4405\n",
      "       spam       0.65      0.94      0.77       374\n",
      "\n",
      "avg / total       0.97      0.96      0.96      4779\n",
      "\n",
      "[[4218  187]\n",
      " [  21  353]]\n"
     ]
    }
   ],
   "source": [
    "from nltk.stem import WordNetLemmatizer\n",
    "'''Лемматизация (WordnetLemmatizer)'''\n",
    "bow_l = CountVectorizer(analyzer=lemming)    \n",
    "bow_l.fit_transform(msg_train)\n",
    "bowed_train = bow_l.transform(msg_train)\n",
    "bowed_test = bow_l.transform(msg_test)\n",
    "\n",
    "naive_model_l = MultinomialNB()\n",
    "naive_model_l.fit(bowed_train, label_train)\n",
    "pred = naive_model_l.predict(bowed_test)\n",
    "print(classification_report(label_test, pred))\n",
    "print(confusion_matrix(label_test, pred))"
   ]
  },
  {
   "cell_type": "markdown",
   "metadata": {},
   "source": [
    "Ещё хуже. Аж 187 хороших сообщений уходят в спам. Попробуем теперь убрать стоп-слова."
   ]
  },
  {
   "cell_type": "code",
   "execution_count": 37,
   "metadata": {
    "collapsed": false
   },
   "outputs": [
    {
     "name": "stdout",
     "output_type": "stream",
     "text": [
      "             precision    recall  f1-score   support\n",
      "\n",
      "        ham       0.99      0.95      0.97      4405\n",
      "       spam       0.59      0.94      0.73       374\n",
      "\n",
      "avg / total       0.96      0.94      0.95      4779\n",
      "\n",
      "[[4164  241]\n",
      " [  23  351]]\n"
     ]
    }
   ],
   "source": [
    "from nltk.corpus import stopwords\n",
    "'''Удаление стоп-слов'''\n",
    "bow_w = CountVectorizer(analyzer=stop_words)    \n",
    "bow_w.fit_transform(msg_train)\n",
    "bowed_train = bow_w.transform(msg_train)\n",
    "bowed_test = bow_w.transform(msg_test)\n",
    "\n",
    "naive_model_w = MultinomialNB()\n",
    "naive_model_w.fit(bowed_train, label_train)\n",
    "pred = naive_model_w.predict(bowed_test)\n",
    "print(classification_report(label_test, pred))\n",
    "print(confusion_matrix(label_test, pred))\n"
   ]
  },
  {
   "cell_type": "markdown",
   "metadata": {},
   "source": [
    "И ещё хуже. Уже в спам ушло 241 нужное письмо."
   ]
  },
  {
   "cell_type": "code",
   "execution_count": 38,
   "metadata": {
    "collapsed": false
   },
   "outputs": [
    {
     "name": "stdout",
     "output_type": "stream",
     "text": [
      "             precision    recall  f1-score   support\n",
      "\n",
      "        ham       0.95      0.83      0.89      4405\n",
      "       spam       0.19      0.47      0.27       374\n",
      "\n",
      "avg / total       0.89      0.80      0.84      4779\n",
      "\n",
      "[[3655  750]\n",
      " [ 197  177]]\n"
     ]
    }
   ],
   "source": [
    "''' min vs. max document frequency'''\n",
    "bow_min = CountVectorizer(min_df = 0.3)    \n",
    "bowed_train = bow_min.fit_transform(msg_train)\n",
    "bowed_test = bow_min.transform(msg_test)\n",
    "\n",
    "naive_model_min = MultinomialNB()\n",
    "naive_model_min.fit(bowed_train, label_train)\n",
    "pred = naive_model_min.predict(bowed_test)\n",
    "print(classification_report(label_test, pred))\n",
    "print(confusion_matrix(label_test, pred))"
   ]
  },
  {
   "cell_type": "markdown",
   "metadata": {},
   "source": [
    "Совсем плохо. В спам уходит аж 750 ham, и 197 спамовых писем наоборот, попадают в ham."
   ]
  },
  {
   "cell_type": "code",
   "execution_count": 45,
   "metadata": {
    "collapsed": false,
    "scrolled": true
   },
   "outputs": [
    {
     "name": "stdout",
     "output_type": "stream",
     "text": [
      "             precision    recall  f1-score   support\n",
      "\n",
      "        ham       0.98      0.93      0.95      4405\n",
      "       spam       0.49      0.79      0.60       374\n",
      "\n",
      "avg / total       0.94      0.92      0.93      4779\n",
      "\n",
      "[[4092  313]\n",
      " [  77  297]]\n"
     ]
    }
   ],
   "source": [
    "bow_max = CountVectorizer(max_df = 3)    \n",
    "bowed_train = bow_max.fit_transform(msg_train)\n",
    "bowed_test = bow_max.transform(msg_test)\n",
    "\n",
    "naive_model_max = MultinomialNB()\n",
    "naive_model_max.fit(bowed_train, label_train)\n",
    "pred = naive_model_max.predict(bowed_test)\n",
    "print(classification_report(label_test, pred))\n",
    "print(confusion_matrix(label_test, pred))"
   ]
  },
  {
   "cell_type": "markdown",
   "metadata": {},
   "source": [
    "Получше, чем предыдущее, но всё равно плохо. "
   ]
  },
  {
   "cell_type": "code",
   "execution_count": 47,
   "metadata": {
    "collapsed": false
   },
   "outputs": [
    {
     "name": "stdout",
     "output_type": "stream",
     "text": [
      "             precision    recall  f1-score   support\n",
      "\n",
      "        ham       0.99      0.98      0.99      4405\n",
      "       spam       0.77      0.93      0.84       374\n",
      "\n",
      "avg / total       0.98      0.97      0.97      4779\n",
      "\n",
      "[[4301  104]\n",
      " [  25  349]]\n"
     ]
    }
   ],
   "source": [
    "from sklearn.feature_extraction.text import TfidfVectorizer\n",
    "'''TfIdfVectorizer'''\n",
    "Tf = TfidfVectorizer()\n",
    "train_tf = Tf.fit_transform(msg_train)\n",
    "test_tf = Tf.transform(msg_test)\n",
    "\n",
    "naive_model_tf = MultinomialNB()\n",
    "naive_model_tf.fit(train_tf, label_train)\n",
    "pred = naive_model_tf.predict(test_tf)\n",
    "print(classification_report(label_test, pred))\n",
    "print(confusion_matrix(label_test, pred))"
   ]
  },
  {
   "cell_type": "markdown",
   "metadata": {},
   "source": [
    "А тут результат значительно лучше. Если же выбирать между токенизацей с удалением знаков препинания,\n",
    "токенизацией с сохранением знаков препинания, стеммингом и лематизацией,\n",
    "то наилучший результат покажет токенизация с сохранением знаков препинания\n",
    "(знак препинания считается за отдельный токен). \n",
    "\n",
    "В целом, если говорить о применении классификатора спама и не-спама на практике, то \"из двух зол\" - 1. ham  попал в спам и 2. спам попал в ham, меньшим будет 1е - когда хорошее письмо попадает в спам. Почему? В первую очередь это не так опасно - всегда можно время от времени заходить в папку со спамом и смотреть, не затерялось ли там что-нибудь нужное. А вот если спамовое сообщение по ошибке не распознается как спам, и попадет в поток хороших нужных писем, то это может очень сильно навредить компьютеру. Так что наш классификатор работает более менее хорошо. "
   ]
  },
  {
   "cell_type": "code",
   "execution_count": 51,
   "metadata": {
    "collapsed": false
   },
   "outputs": [
    {
     "name": "stdout",
     "output_type": "stream",
     "text": [
      "             precision    recall  f1-score   support\n",
      "\n",
      "        ham       0.98      0.93      0.96      4405\n",
      "       spam       0.51      0.82      0.63       374\n",
      "\n",
      "avg / total       0.95      0.92      0.93      4779\n",
      "\n",
      "[[4110  295]\n",
      " [  68  306]]\n",
      "             precision    recall  f1-score   support\n",
      "\n",
      "        ham       0.96      0.95      0.96      4405\n",
      "       spam       0.49      0.57      0.53       374\n",
      "\n",
      "avg / total       0.93      0.92      0.92      4779\n",
      "\n",
      "[[4182  223]\n",
      " [ 161  213]]\n"
     ]
    }
   ],
   "source": [
    "from sklearn.tree import DecisionTreeClassifier\n",
    "'''Tree'''\n",
    "clf = DecisionTreeClassifier()\n",
    "'''TfIdfVectorizer:'''\n",
    "clf.fit(train_tf, label_train)\n",
    "pred = clf.predict(test_tf)\n",
    "print(classification_report(label_test, pred))\n",
    "print(confusion_matrix(label_test, pred))\n",
    "'''CountVectorizer'''\n",
    "clf.fit(bowed_train, label_train)\n",
    "pred = clf.predict(bowed_test)\n",
    "print(classification_report(label_test, pred))\n",
    "print(confusion_matrix(label_test, pred))"
   ]
  },
  {
   "cell_type": "markdown",
   "metadata": {},
   "source": [
    "Дерево работает плохо при обоих типах векторизации."
   ]
  },
  {
   "cell_type": "code",
   "execution_count": 52,
   "metadata": {
    "collapsed": false
   },
   "outputs": [
    {
     "name": "stdout",
     "output_type": "stream",
     "text": [
      "             precision    recall  f1-score   support\n",
      "\n",
      "        ham       0.99      0.98      0.98      4405\n",
      "       spam       0.80      0.85      0.82       374\n",
      "\n",
      "avg / total       0.97      0.97      0.97      4779\n",
      "\n",
      "[[4323   82]\n",
      " [  56  318]]\n"
     ]
    }
   ],
   "source": [
    "'''Forest'''\n",
    "forest = RandomForestClassifier()\n",
    "forest.fit(train_tf, label_train)\n",
    "pred = forest.predict(test_tf)\n",
    "print(classification_report(label_test, pred))\n",
    "print(confusion_matrix(label_test, pred))"
   ]
  },
  {
   "cell_type": "markdown",
   "metadata": {},
   "source": [
    "А лес справляется с классификацией в разы лучше дерева, классифицируя и спам и ham  с гораздо большей точностью: "
   ]
  },
  {
   "cell_type": "markdown",
   "metadata": {},
   "source": [
    "#  UPD. ТУТ Я ДОБАВИЛА LEARNING CURVES"
   ]
  },
  {
   "cell_type": "code",
   "execution_count": 55,
   "metadata": {
    "collapsed": false
   },
   "outputs": [
    {
     "data": {
      "text/plain": [
       "<module 'matplotlib.pyplot' from 'C:\\\\Anaconda3\\\\lib\\\\site-packages\\\\matplotlib\\\\pyplot.py'>"
      ]
     },
     "execution_count": 55,
     "metadata": {},
     "output_type": "execute_result"
    },
    {
     "data": {
      "image/png": "[encoded data removed]",
      "text/plain": [
       "<matplotlib.figure.Figure at 0x23029d43780>"
      ]
     },
     "metadata": {},
     "output_type": "display_data"
    }
   ],
   "source": [
    "%matplotlib inline\n",
    "import matplotlib.pyplot as plt\n",
    "from sklearn.model_selection import StratifiedKFold, cross_val_score, train_test_split, learning_curve, ShuffleSplit\n",
    "def plot_learning_curve(estimator, title, X, y, ylim=None, cv=None,\n",
    "                        n_jobs=1, train_sizes=np.linspace(.1, 1.0, 5)):\n",
    "    plt.figure()\n",
    "    plt.title(title)\n",
    "    if ylim is not None:\n",
    "        plt.ylim(*ylim)\n",
    "    plt.xlabel(\"Training examples\")\n",
    "    plt.ylabel(\"Score\")\n",
    "    train_sizes, train_scores, test_scores = learning_curve(\n",
    "        estimator, X, y, cv=cv, n_jobs=n_jobs, train_sizes=train_sizes)\n",
    "    train_scores_mean = np.mean(train_scores, axis=1)\n",
    "    train_scores_std = np.std(train_scores, axis=1)\n",
    "    test_scores_mean = np.mean(test_scores, axis=1)\n",
    "    test_scores_std = np.std(test_scores, axis=1)\n",
    "    plt.grid()\n",
    "\n",
    "    plt.fill_between(train_sizes, train_scores_mean - train_scores_std,\n",
    "                     train_scores_mean + train_scores_std, alpha=0.1,\n",
    "                     color=\"r\")\n",
    "    plt.fill_between(train_sizes, test_scores_mean - test_scores_std,\n",
    "                     test_scores_mean + test_scores_std, alpha=0.1, color=\"g\")\n",
    "    plt.plot(train_sizes, train_scores_mean, 'o-', color=\"r\",\n",
    "             label=\"Training score\")\n",
    "    plt.plot(train_sizes, test_scores_mean, 'o-', color=\"g\",\n",
    "             label=\"Cross-validation score\")\n",
    "\n",
    "    plt.legend(loc=\"best\")\n",
    "    return plt\n",
    "\n",
    "cv = ShuffleSplit(n_splits=10, test_size=0.2, random_state=0)\n",
    "estimator = RandomForestClassifier()\n",
    "plot_learning_curve(estimator, 'Forest', train_tf.toarray(), label_train, ylim=(0.7, 1.01), cv=cv, n_jobs=4)\n"
   ]
  },
  {
   "cell_type": "code",
   "execution_count": 56,
   "metadata": {
    "collapsed": false
   },
   "outputs": [
    {
     "data": {
      "text/plain": [
       "<module 'matplotlib.pyplot' from 'C:\\\\Anaconda3\\\\lib\\\\site-packages\\\\matplotlib\\\\pyplot.py'>"
      ]
     },
     "execution_count": 56,
     "metadata": {},
     "output_type": "execute_result"
    },
    {
     "data": {
      "image/png": "[encoded data removed]",
      "text/plain": [
       "<matplotlib.figure.Figure at 0x23029db6c88>"
      ]
     },
     "metadata": {},
     "output_type": "display_data"
    }
   ],
   "source": [
    "cv = ShuffleSplit(n_splits=10, test_size=0.2, random_state=0)\n",
    "estimator = DecisionTreeClassifier()\n",
    "plot_learning_curve(estimator, 'Tree', train_tf.toarray(), label_train, ylim=(0.7, 1.01), cv=cv, n_jobs=4)"
   ]
  },
  {
   "cell_type": "code",
   "execution_count": 58,
   "metadata": {
    "collapsed": false
   },
   "outputs": [
    {
     "data": {
      "text/plain": [
       "<module 'matplotlib.pyplot' from 'C:\\\\Anaconda3\\\\lib\\\\site-packages\\\\matplotlib\\\\pyplot.py'>"
      ]
     },
     "execution_count": 58,
     "metadata": {},
     "output_type": "execute_result"
    },
    {
     "data": {
      "image/png": "[encoded data removed]",
      "text/plain": [
       "<matplotlib.figure.Figure at 0x23022b25780>"
      ]
     },
     "metadata": {},
     "output_type": "display_data"
    }
   ],
   "source": [
    "cv = ShuffleSplit(n_splits=10, test_size=0.2, random_state=0)\n",
    "estimator = MultinomialNB()\n",
    "plot_learning_curve(estimator, 'Bayes', train_tf.toarray(), label_train, ylim=(0.7, 1.01), cv=cv, n_jobs=4)"
   ]
  },
  {
   "cell_type": "code",
   "execution_count": 81,
   "metadata": {
    "collapsed": false
   },
   "outputs": [
    {
     "data": {
      "image/png": "[encoded data removed]",
      "text/plain": [
       "<matplotlib.figure.Figure at 0x2302a6e0358>"
      ]
     },
     "metadata": {},
     "output_type": "display_data"
    }
   ],
   "source": [
    "from sklearn.metrics import roc_curve, auc\n",
    "import matplotlib.pyplot as plt\n",
    "\n",
    "\n",
    "\n",
    "\n",
    "forest = RandomForestClassifier()\n",
    "forest.fit(train_tf, label_train)\n",
    "pred = forest.predict(test_tf)\n",
    "def ROC_CURVE_GRAPH(clf):\n",
    "    clf.fit(train_tf, label_train)\n",
    "    pred = clf.predict(test_tf)\n",
    "    actual = []\n",
    "    predictions = []\n",
    "    for l in pred:\n",
    "        if l =='ham':\n",
    "            predictions.append(1)\n",
    "        elif l =='spam':\n",
    "            predictions.append(0)\n",
    "    for l in label_test:\n",
    "        if l =='ham':\n",
    "            actual.append(1)\n",
    "        elif l =='spam':\n",
    "            actual.append(0)\n",
    "    false_positive_rate, true_positive_rate, thresholds = roc_curve(actual, predictions)\n",
    "    roc_auc = auc(false_positive_rate, true_positive_rate)\n",
    "\n",
    "    plt.title('ROC_CURVE')\n",
    "    plt.plot(false_positive_rate, true_positive_rate, 'b',\n",
    "    label='AUC = %0.2f'% roc_auc)\n",
    "    plt.legend(loc='lower right')\n",
    "    plt.plot([0,1],[0,1],'r--')\n",
    "    plt.xlim([-0.1,1.2])\n",
    "    plt.ylim([-0.1,1.2])\n",
    "    plt.ylabel('True Positive Rate')\n",
    "    plt.xlabel('False Positive Rate')\n",
    "    plt.show()\n",
    "\n",
    "ROC_CURVE_GRAPH(forest)"
   ]
  },
  {
   "cell_type": "code",
   "execution_count": 84,
   "metadata": {
    "collapsed": false
   },
   "outputs": [
    {
     "data": {
      "image/png": "[encoded data removed]",
      "text/plain": [
       "<matplotlib.figure.Figure at 0x2302a781518>"
      ]
     },
     "metadata": {},
     "output_type": "display_data"
    }
   ],
   "source": [
    "naive_model_tf = MultinomialNB()\n",
    "naive_model_tf.fit(train_tf, label_train)\n",
    "pred = naive_model_tf.predict(test_tf)\n",
    "\n",
    "ROC_CURVE_GRAPH(naive_model_tf)"
   ]
  },
  {
   "cell_type": "code",
   "execution_count": 86,
   "metadata": {
    "collapsed": false
   },
   "outputs": [
    {
     "data": {
      "image/png": "[encoded data removed]",
      "text/plain": [
       "<matplotlib.figure.Figure at 0x23029e05860>"
      ]
     },
     "metadata": {},
     "output_type": "display_data"
    }
   ],
   "source": [
    "clf = DecisionTreeClassifier()\n",
    "\n",
    "clf.fit(train_tf, label_train)\n",
    "pred = clf.predict(test_tf)\n",
    "ROC_CURVE_GRAPH(clf)"
   ]
  },
  {
   "cell_type": "markdown",
   "metadata": {},
   "source": [
    "Как мы интерпретируем все эти графики:\n",
    "Learning curve показывает, что при увеличении объема выборки модель работает лучше (на всех трех графиках обычное обучение остаётся практически неизменным: у леса чуть возрастает вначале, у Байеса наоборот, чуть снижается). На Кросс-валидации обучаемость хорошо растёт у леса, чуть меньше у Байеса, а у дерева чуть ухудшается в конце.\n",
    "ROC- кривые: Из графиков видно, что качество модели довольно высокое - площадь под кривой большая (однако в данном случае, дерево ведет себя чуть хуже остальных). "
   ]
  },
  {
   "cell_type": "code",
   "execution_count": 98,
   "metadata": {
    "collapsed": false
   },
   "outputs": [
    {
     "data": {
      "text/html": [
       "<div>\n",
       "<table border=\"1\" class=\"dataframe\">\n",
       "  <thead>\n",
       "    <tr style=\"text-align: right;\">\n",
       "      <th></th>\n",
       "      <th>label</th>\n",
       "      <th>message</th>\n",
       "      <th>length</th>\n",
       "    </tr>\n",
       "  </thead>\n",
       "  <tbody>\n",
       "    <tr>\n",
       "      <th>0</th>\n",
       "      <td>ham</td>\n",
       "      <td>Go until jurong point, crazy.. Available only ...</td>\n",
       "      <td>111</td>\n",
       "    </tr>\n",
       "    <tr>\n",
       "      <th>1</th>\n",
       "      <td>ham</td>\n",
       "      <td>Ok lar... Joking wif u oni...</td>\n",
       "      <td>29</td>\n",
       "    </tr>\n",
       "    <tr>\n",
       "      <th>2</th>\n",
       "      <td>spam</td>\n",
       "      <td>Free entry in 2 a wkly comp to win FA Cup fina...</td>\n",
       "      <td>155</td>\n",
       "    </tr>\n",
       "    <tr>\n",
       "      <th>3</th>\n",
       "      <td>ham</td>\n",
       "      <td>U dun say so early hor... U c already then say...</td>\n",
       "      <td>49</td>\n",
       "    </tr>\n",
       "    <tr>\n",
       "      <th>4</th>\n",
       "      <td>ham</td>\n",
       "      <td>Nah I don't think he goes to usf, he lives aro...</td>\n",
       "      <td>61</td>\n",
       "    </tr>\n",
       "  </tbody>\n",
       "</table>\n",
       "</div>"
      ],
      "text/plain": [
       "  label                                            message  length\n",
       "0   ham  Go until jurong point, crazy.. Available only ...     111\n",
       "1   ham                      Ok lar... Joking wif u oni...      29\n",
       "2  spam  Free entry in 2 a wkly comp to win FA Cup fina...     155\n",
       "3   ham  U dun say so early hor... U c already then say...      49\n",
       "4   ham  Nah I don't think he goes to usf, he lives aro...      61"
      ]
     },
     "execution_count": 98,
     "metadata": {},
     "output_type": "execute_result"
    }
   ],
   "source": [
    "f.head()  "
   ]
  },
  {
   "cell_type": "code",
   "execution_count": 104,
   "metadata": {
    "collapsed": false
   },
   "outputs": [
    {
     "data": {
      "text/plain": [
       "4385    Thanks honey but still haven't heard anything ...\n",
       "4442    I'm going 2 orchard now laready me reaching so...\n",
       "660     88800 and 89034 are premium phone services cal...\n",
       "1872    Dont know supports ass and srt i thnk. I think...\n",
       "119     Hmm...my uncle just informed me that he's payi...\n",
       "Name: message, dtype: object"
      ]
     },
     "execution_count": 104,
     "metadata": {},
     "output_type": "execute_result"
    }
   ],
   "source": [
    "X_train, X_test, y_train, y_test = train_test_split(f['message'], f['label'], test_size = 0.2)\n",
    "X_train.head()"
   ]
  },
  {
   "cell_type": "markdown",
   "metadata": {},
   "source": [
    "Колонку с длиной мы уже добавили с самого начала. Добавим ещё признаки.Буквы КАПСОМ:"
   ]
  },
  {
   "cell_type": "code",
   "execution_count": 109,
   "metadata": {
    "collapsed": false
   },
   "outputs": [
    {
     "data": {
      "text/html": [
       "<div>\n",
       "<table border=\"1\" class=\"dataframe\">\n",
       "  <thead>\n",
       "    <tr style=\"text-align: right;\">\n",
       "      <th></th>\n",
       "      <th>label</th>\n",
       "      <th>message</th>\n",
       "      <th>length</th>\n",
       "      <th>CAPSLOCK</th>\n",
       "      <th>numbers</th>\n",
       "    </tr>\n",
       "  </thead>\n",
       "  <tbody>\n",
       "    <tr>\n",
       "      <th>0</th>\n",
       "      <td>spam</td>\n",
       "      <td>Free entry in 2 a wkly comp to win FA Cup fina...</td>\n",
       "      <td>155</td>\n",
       "      <td>10</td>\n",
       "      <td>25</td>\n",
       "    </tr>\n",
       "    <tr>\n",
       "      <th>1</th>\n",
       "      <td>spam</td>\n",
       "      <td>FreeMsg Hey there darling it's been 3 week's n...</td>\n",
       "      <td>147</td>\n",
       "      <td>7</td>\n",
       "      <td>4</td>\n",
       "    </tr>\n",
       "    <tr>\n",
       "      <th>2</th>\n",
       "      <td>spam</td>\n",
       "      <td>WINNER!! As a valued network customer you have...</td>\n",
       "      <td>157</td>\n",
       "      <td>12</td>\n",
       "      <td>19</td>\n",
       "    </tr>\n",
       "    <tr>\n",
       "      <th>3</th>\n",
       "      <td>spam</td>\n",
       "      <td>Had your mobile 11 months or more? U R entitle...</td>\n",
       "      <td>154</td>\n",
       "      <td>14</td>\n",
       "      <td>13</td>\n",
       "    </tr>\n",
       "    <tr>\n",
       "      <th>4</th>\n",
       "      <td>spam</td>\n",
       "      <td>SIX chances to win CASH! From 100 to 20,000 po...</td>\n",
       "      <td>136</td>\n",
       "      <td>17</td>\n",
       "      <td>22</td>\n",
       "    </tr>\n",
       "  </tbody>\n",
       "</table>\n",
       "</div>"
      ],
      "text/plain": [
       "  label                                            message  length  CAPSLOCK  \\\n",
       "0  spam  Free entry in 2 a wkly comp to win FA Cup fina...     155        10   \n",
       "1  spam  FreeMsg Hey there darling it's been 3 week's n...     147         7   \n",
       "2  spam  WINNER!! As a valued network customer you have...     157        12   \n",
       "3  spam  Had your mobile 11 months or more? U R entitle...     154        14   \n",
       "4  spam  SIX chances to win CASH! From 100 to 20,000 po...     136        17   \n",
       "\n",
       "   numbers  \n",
       "0       25  \n",
       "1        4  \n",
       "2       19  \n",
       "3       13  \n",
       "4       22  "
      ]
     },
     "execution_count": 109,
     "metadata": {},
     "output_type": "execute_result"
    }
   ],
   "source": [
    "CAPSLOCK = \"ABCDEFJHIJKLMNOPQRSTUVWXYZ\"\n",
    "ARR = []\n",
    "for word in train['message']:\n",
    "    CAPSLOCK_COUNTER= 0\n",
    "    for letter in word:\n",
    "        #print(letter)\n",
    "        if letter in CAPSLOCK:\n",
    "            CAPSLOCK_COUNTER += 1\n",
    "    ARR.append(CAPSLOCK_COUNTER)\n",
    "train['CAPSLOCK'] = ARR\n",
    "train.head()"
   ]
  },
  {
   "cell_type": "raw",
   "metadata": {},
   "source": [
    "Цифры: "
   ]
  },
  {
   "cell_type": "code",
   "execution_count": 110,
   "metadata": {
    "collapsed": false
   },
   "outputs": [
    {
     "data": {
      "text/html": [
       "<div>\n",
       "<table border=\"1\" class=\"dataframe\">\n",
       "  <thead>\n",
       "    <tr style=\"text-align: right;\">\n",
       "      <th></th>\n",
       "      <th>label</th>\n",
       "      <th>message</th>\n",
       "      <th>length</th>\n",
       "      <th>CAPSLOCK</th>\n",
       "      <th>numbers</th>\n",
       "    </tr>\n",
       "  </thead>\n",
       "  <tbody>\n",
       "    <tr>\n",
       "      <th>0</th>\n",
       "      <td>spam</td>\n",
       "      <td>Free entry in 2 a wkly comp to win FA Cup fina...</td>\n",
       "      <td>155</td>\n",
       "      <td>10</td>\n",
       "      <td>25</td>\n",
       "    </tr>\n",
       "    <tr>\n",
       "      <th>1</th>\n",
       "      <td>spam</td>\n",
       "      <td>FreeMsg Hey there darling it's been 3 week's n...</td>\n",
       "      <td>147</td>\n",
       "      <td>7</td>\n",
       "      <td>4</td>\n",
       "    </tr>\n",
       "    <tr>\n",
       "      <th>2</th>\n",
       "      <td>spam</td>\n",
       "      <td>WINNER!! As a valued network customer you have...</td>\n",
       "      <td>157</td>\n",
       "      <td>12</td>\n",
       "      <td>19</td>\n",
       "    </tr>\n",
       "    <tr>\n",
       "      <th>3</th>\n",
       "      <td>spam</td>\n",
       "      <td>Had your mobile 11 months or more? U R entitle...</td>\n",
       "      <td>154</td>\n",
       "      <td>14</td>\n",
       "      <td>13</td>\n",
       "    </tr>\n",
       "    <tr>\n",
       "      <th>4</th>\n",
       "      <td>spam</td>\n",
       "      <td>SIX chances to win CASH! From 100 to 20,000 po...</td>\n",
       "      <td>136</td>\n",
       "      <td>17</td>\n",
       "      <td>22</td>\n",
       "    </tr>\n",
       "  </tbody>\n",
       "</table>\n",
       "</div>"
      ],
      "text/plain": [
       "  label                                            message  length  CAPSLOCK  \\\n",
       "0  spam  Free entry in 2 a wkly comp to win FA Cup fina...     155        10   \n",
       "1  spam  FreeMsg Hey there darling it's been 3 week's n...     147         7   \n",
       "2  spam  WINNER!! As a valued network customer you have...     157        12   \n",
       "3  spam  Had your mobile 11 months or more? U R entitle...     154        14   \n",
       "4  spam  SIX chances to win CASH! From 100 to 20,000 po...     136        17   \n",
       "\n",
       "   numbers  \n",
       "0       25  \n",
       "1        4  \n",
       "2       19  \n",
       "3       13  \n",
       "4       22  "
      ]
     },
     "execution_count": 110,
     "metadata": {},
     "output_type": "execute_result"
    }
   ],
   "source": [
    "numbers = '1234567890'\n",
    "nums = []\n",
    "for word in train['message']:\n",
    "    num_COUNTER= 0\n",
    "    for letter in word:\n",
    "        #print(letter)\n",
    "        if letter in numbers:\n",
    "            num_COUNTER += 1\n",
    "    nums.append(num_COUNTER)\n",
    "train['numbers'] = nums\n",
    "train.head()"
   ]
  },
  {
   "cell_type": "raw",
   "metadata": {},
   "source": [
    "Восклицательные знаки:\n",
    "    "
   ]
  },
  {
   "cell_type": "code",
   "execution_count": 119,
   "metadata": {
    "collapsed": false
   },
   "outputs": [
    {
     "data": {
      "text/html": [
       "<div>\n",
       "<table border=\"1\" class=\"dataframe\">\n",
       "  <thead>\n",
       "    <tr style=\"text-align: right;\">\n",
       "      <th></th>\n",
       "      <th>label</th>\n",
       "      <th>message</th>\n",
       "      <th>length</th>\n",
       "      <th>CAPSLOCK</th>\n",
       "      <th>numbers</th>\n",
       "      <th>Exclamation marks</th>\n",
       "      <th>commas</th>\n",
       "    </tr>\n",
       "  </thead>\n",
       "  <tbody>\n",
       "    <tr>\n",
       "      <th>0</th>\n",
       "      <td>spam</td>\n",
       "      <td>Free entry in 2 a wkly comp to win FA Cup fina...</td>\n",
       "      <td>155</td>\n",
       "      <td>10</td>\n",
       "      <td>25</td>\n",
       "      <td>0</td>\n",
       "      <td>0</td>\n",
       "    </tr>\n",
       "    <tr>\n",
       "      <th>1</th>\n",
       "      <td>spam</td>\n",
       "      <td>FreeMsg Hey there darling it's been 3 week's n...</td>\n",
       "      <td>147</td>\n",
       "      <td>7</td>\n",
       "      <td>4</td>\n",
       "      <td>2</td>\n",
       "      <td>1</td>\n",
       "    </tr>\n",
       "    <tr>\n",
       "      <th>2</th>\n",
       "      <td>spam</td>\n",
       "      <td>WINNER!! As a valued network customer you have...</td>\n",
       "      <td>157</td>\n",
       "      <td>12</td>\n",
       "      <td>19</td>\n",
       "      <td>3</td>\n",
       "      <td>0</td>\n",
       "    </tr>\n",
       "    <tr>\n",
       "      <th>3</th>\n",
       "      <td>spam</td>\n",
       "      <td>Had your mobile 11 months or more? U R entitle...</td>\n",
       "      <td>154</td>\n",
       "      <td>14</td>\n",
       "      <td>13</td>\n",
       "      <td>1</td>\n",
       "      <td>0</td>\n",
       "    </tr>\n",
       "    <tr>\n",
       "      <th>4</th>\n",
       "      <td>spam</td>\n",
       "      <td>SIX chances to win CASH! From 100 to 20,000 po...</td>\n",
       "      <td>136</td>\n",
       "      <td>17</td>\n",
       "      <td>22</td>\n",
       "      <td>1</td>\n",
       "      <td>3</td>\n",
       "    </tr>\n",
       "    <tr>\n",
       "      <th>5</th>\n",
       "      <td>spam</td>\n",
       "      <td>URGENT! You have won a 1 week FREE membership ...</td>\n",
       "      <td>155</td>\n",
       "      <td>39</td>\n",
       "      <td>20</td>\n",
       "      <td>2</td>\n",
       "      <td>1</td>\n",
       "    </tr>\n",
       "    <tr>\n",
       "      <th>6</th>\n",
       "      <td>spam</td>\n",
       "      <td>XXXMobileMovieClub: To use your credit, click ...</td>\n",
       "      <td>149</td>\n",
       "      <td>20</td>\n",
       "      <td>0</td>\n",
       "      <td>0</td>\n",
       "      <td>1</td>\n",
       "    </tr>\n",
       "  </tbody>\n",
       "</table>\n",
       "</div>"
      ],
      "text/plain": [
       "  label                                            message  length  CAPSLOCK  \\\n",
       "0  spam  Free entry in 2 a wkly comp to win FA Cup fina...     155        10   \n",
       "1  spam  FreeMsg Hey there darling it's been 3 week's n...     147         7   \n",
       "2  spam  WINNER!! As a valued network customer you have...     157        12   \n",
       "3  spam  Had your mobile 11 months or more? U R entitle...     154        14   \n",
       "4  spam  SIX chances to win CASH! From 100 to 20,000 po...     136        17   \n",
       "5  spam  URGENT! You have won a 1 week FREE membership ...     155        39   \n",
       "6  spam  XXXMobileMovieClub: To use your credit, click ...     149        20   \n",
       "\n",
       "   numbers  Exclamation marks  commas  \n",
       "0       25                  0       0  \n",
       "1        4                  2       1  \n",
       "2       19                  3       0  \n",
       "3       13                  1       0  \n",
       "4       22                  1       3  \n",
       "5       20                  2       1  \n",
       "6        0                  0       1  "
      ]
     },
     "execution_count": 119,
     "metadata": {},
     "output_type": "execute_result"
    }
   ],
   "source": [
    "clam = []\n",
    "for word in train['message']:\n",
    "    clam_COUNTER= 0\n",
    "    for letter in word:\n",
    "        #print(letter)\n",
    "        if letter == '!':\n",
    "            clam_COUNTER += 1\n",
    "    clam.append(clam_COUNTER)\n",
    "'train['Exclamation marks'] = clam\n",
    "train.head(7)"
   ]
  },
  {
   "cell_type": "code",
   "execution_count": 132,
   "metadata": {
    "collapsed": false
   },
   "outputs": [],
   "source": [
    "\n",
    "commas = []\n",
    "for word in train['message']:\n",
    "    comma_COUNTER= 0\n",
    "    for letter in word:\n",
    "        print(letter)\n",
    "        if letter == ',':\n",
    "            comma_COUNTER += 1\n",
    "    commas.append(comma_COUNTER)\n",
    "train['commas'] = commas\n",
    "train.drop(['message', 'domens'], axis=1, inplace=True)\n"
   ]
  },
  {
   "cell_type": "code",
   "execution_count": 128,
   "metadata": {
    "collapsed": false
   },
   "outputs": [
    {
     "data": {
      "text/plain": [
       "650     ham\n",
       "350    spam\n",
       "118    spam\n",
       "608     ham\n",
       "50     spam\n",
       "Name: label, dtype: object"
      ]
     },
     "execution_count": 128,
     "metadata": {},
     "output_type": "execute_result"
    }
   ],
   "source": [
    "x_labels = ['length', 'CAPSLOCK', 'numbers', 'Exclamation marks', 'commas']\n",
    "X, y = train[x_labels], train['label']\n",
    "X_train, X_test, y_train, y_test = train_test_split(X, y, test_size=0.2)\n",
    "y_train.head()"
   ]
  },
  {
   "cell_type": "code",
   "execution_count": 137,
   "metadata": {
    "collapsed": false
   },
   "outputs": [
    {
     "name": "stdout",
     "output_type": "stream",
     "text": [
      "             precision    recall  f1-score   support\n",
      "\n",
      "        ham       0.90      0.89      0.89        88\n",
      "       spam       0.86      0.87      0.87        71\n",
      "\n",
      "avg / total       0.88      0.88      0.88       159\n",
      "\n",
      "[[78 10]\n",
      " [ 9 62]]\n"
     ]
    },
    {
     "data": {
      "image/png": "[encoded data removed]",
      "text/plain": [
       "<matplotlib.figure.Figure at 0x23025577be0>"
      ]
     },
     "metadata": {},
     "output_type": "display_data"
    }
   ],
   "source": [
    "nb = MultinomialNB()\n",
    "nb.fit(X_train, y_train)\n",
    "pred = nb.predict(X_test)\n",
    "print(classification_report(y_test, pred))\n",
    "print(confusion_matrix(y_test, pred))\n",
    "\n",
    "ROC_CURVE_GRAPH(nb)"
   ]
  },
  {
   "cell_type": "markdown",
   "metadata": {},
   "source": [
    "И добавив свои фичи, мы видим, что качество получается тоже неплохое"
   ]
  },
  {
   "cell_type": "code",
   "execution_count": 141,
   "metadata": {
    "collapsed": false
   },
   "outputs": [
    {
     "name": "stdout",
     "output_type": "stream",
     "text": [
      "             precision    recall  f1-score   support\n",
      "\n",
      "        ham       0.95      0.95      0.95        88\n",
      "       spam       0.94      0.94      0.94        71\n",
      "\n",
      "avg / total       0.95      0.95      0.95       159\n",
      "\n",
      "[[84  4]\n",
      " [ 4 67]]\n"
     ]
    }
   ],
   "source": [
    "\n",
    "\n",
    "fst = RandomForestClassifier()\n",
    "fst.fit(X_train, y_train)\n",
    "pred = fst.predict(X_test)\n",
    "print(classification_report(y_test, pred))\n",
    "print(confusion_matrix(y_test, pred))\n",
    "\n"
   ]
  },
  {
   "cell_type": "code",
   "execution_count": null,
   "metadata": {
    "collapsed": true
   },
   "outputs": [],
   "source": [
    "А Лес классифицирует еще лучше"
   ]
  }
 ],
 "metadata": {
  "kernelspec": {
   "display_name": "Python 3",
   "language": "python",
   "name": "python3"
  },
  "language_info": {
   "codemirror_mode": {
    "name": "ipython",
    "version": 3
   },
   "file_extension": ".py",
   "mimetype": "text/x-python",
   "name": "python",
   "nbconvert_exporter": "python",
   "pygments_lexer": "ipython3",
   "version": "3.6.0"
  }
 },
 "nbformat": 4,
 "nbformat_minor": 2
}
